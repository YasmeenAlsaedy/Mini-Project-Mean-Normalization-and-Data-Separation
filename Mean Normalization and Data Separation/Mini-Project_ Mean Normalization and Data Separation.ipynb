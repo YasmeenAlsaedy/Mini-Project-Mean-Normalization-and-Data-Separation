{
 "cells": [
  {
   "cell_type": "markdown",
   "metadata": {},
   "source": [
    "# Mean Normalization\n",
    "\n",
    "In machine learning we use large amounts of data to train our models. Some machine learning algorithms may require that the data is *normalized* in order to work correctly. The idea of normalization, also known as *feature scaling*, is to ensure that all the data is on a similar scale, *i.e.* that all the data takes on a similar range of values. For example, we might have a dataset that has values between 0 and 5,000. By normalizing the data we can make the range of values be between 0 and 1.\n",
    "\n",
    "In this lab, you will be performing a different kind of feature scaling known as *mean normalization*. Mean normalization will scale the data, but instead of making the values be between 0 and 1, it will distribute the values evenly in some small interval around zero. For example, if we have a dataset that has values between 0 and 5,000, after mean normalization the range of values will be distributed in some small range around 0, for example between -3 to 3. Because the range of values are distributed evenly around zero, this guarantees that the average (mean) of all elements will be zero. Therefore, when you perform *mean normalization* your data will not only be scaled but it will also have an average of zero. \n",
    "\n",
    "# To Do:\n",
    "\n",
    "You will start by importing NumPy and creating a rank 2 ndarray of random integers between 0 and 5,000 (inclusive) with 1000 rows and 20 columns. This array will simulate a dataset with a wide range of values. Fill in the code below"
   ]
  },
  {
   "cell_type": "code",
   "execution_count": 4,
   "metadata": {},
   "outputs": [
    {
     "name": "stdout",
     "output_type": "stream",
     "text": [
      "[[4875 4767  462 ..., 1422 1270 4989]\n",
      " [3702 2769 1088 ..., 3743 4634  281]\n",
      " [  81  318 2689 ..., 2754 2829 3931]\n",
      " ..., \n",
      " [4122 4544  231 ..., 4397 3214 4968]\n",
      " [1600  908 1143 ..., 4171 4152 3625]\n",
      " [2405  888 4844 ..., 3475 4920 1614]]\n"
     ]
    }
   ],
   "source": [
    "# import NumPy into Python\n",
    "import numpy as np\n",
    "\n",
    "# Create a 1000 x 20 ndarray with random integers in the half-open interval [0, 5001).\n",
    "X = np.random.randint(0,5001,size=(1000,20))\n",
    "\n",
    "# print the shape of X\n",
    "print(X)"
   ]
  },
  {
   "cell_type": "markdown",
   "metadata": {},
   "source": [
    "Now that you created the array we will mean normalize it. We will perform mean normalization using the following equation:\n",
    "\n",
    "$\\mbox{Norm_Col}_i = \\frac{\\mbox{Col}_i - \\mu_i}{\\sigma_i}$\n",
    "\n",
    "where $\\mbox{Col}_i$ is the $i$th column of $X$, $\\mu_i$ is average of the values in the $i$th column of $X$, and $\\sigma_i$ is the standard deviation of the values in the $i$th column of $X$. In other words, mean normalization is performed by subtracting from each column of $X$ the average of its values, and then by dividing by the standard deviation of its values. In the space below, you will first calculate the average and standard deviation of each column of $X$. "
   ]
  },
  {
   "cell_type": "code",
   "execution_count": 5,
   "metadata": {},
   "outputs": [],
   "source": [
    "# Average of the values in each column of X\n",
    "ave_cols = X.mean(axis=0)\n",
    "\n",
    "# Standard Deviation of the values in each column of X\n",
    "std_cols = X.std(axis=0)"
   ]
  },
  {
   "cell_type": "markdown",
   "metadata": {},
   "source": [
    "If you have done the above calculations correctly, then `ave_cols` and `std_cols`, should both be vectors with shape `(20,)` since $X$ has 20 columns. You can verify this by filling the code below:"
   ]
  },
  {
   "cell_type": "code",
   "execution_count": 6,
   "metadata": {},
   "outputs": [
    {
     "name": "stdout",
     "output_type": "stream",
     "text": [
      "(20,)\n",
      "(20,)\n"
     ]
    }
   ],
   "source": [
    "# Print the shape of ave_cols\n",
    "print(ave_cols.shape)\n",
    "\n",
    "# Print the shape of std_cols\n",
    "print(std_cols.shape)"
   ]
  },
  {
   "cell_type": "markdown",
   "metadata": {},
   "source": [
    "You can now take advantage of Broadcasting to calculate the mean normalized version of $X$ in just one line of code using the equation above. Fill in the code below"
   ]
  },
  {
   "cell_type": "code",
   "execution_count": 7,
   "metadata": {},
   "outputs": [],
   "source": [
    "# Mean normalize X\n",
    "X_norm = np.divide(X,ave_cols)"
   ]
  },
  {
   "cell_type": "markdown",
   "metadata": {},
   "source": [
    "If you have performed the mean normalization correctly, then the average of all the elements in $X_{\\tiny{\\mbox{norm}}}$ should be close to zero, and they should be evenly distributed in some small interval around zero. You can verify this by filing the code below:"
   ]
  },
  {
   "cell_type": "code",
   "execution_count": 8,
   "metadata": {},
   "outputs": [
    {
     "name": "stdout",
     "output_type": "stream",
     "text": [
      "[ 1.  1.  1.  1.  1.  1.  1.  1.  1.  1.  1.  1.  1.  1.  1.  1.  1.  1.\n",
      "  1.  1.]\n",
      "[ 0.          0.          0.00122825  0.00120434  0.          0.01089133\n",
      "  0.00081429  0.00083329  0.          0.00082417  0.          0.00203529\n",
      "  0.00826247  0.00039814  0.00870584  0.00040228  0.00881303  0.00198379\n",
      "  0.00040144  0.00039746]\n",
      "[ 1.96100234  1.97507839  2.04544859  2.00522281  2.06730592  2.00844118\n",
      "  2.03571706  2.082816    2.07653207  2.05384249  2.02753812  2.03528782\n",
      "  1.96489472  1.98791722  1.97860103  2.01098216  1.99935665  1.98061442\n",
      "  2.00718331  1.98729325]\n"
     ]
    }
   ],
   "source": [
    "# Print the average of all the values of X_norm\n",
    "print(X_norm.mean( axis=0))\n",
    "\n",
    "# Print the average of the minimum value in each column of X_norm\n",
    "print(X_norm.min(axis=0))\n",
    "# Print the average of the maximum value in each column of X_norm\n",
    "print(X_norm.max(axis=0))\n"
   ]
  },
  {
   "cell_type": "markdown",
   "metadata": {},
   "source": [
    "You should note that since $X$ was created using random integers, the above values will vary. \n",
    "\n",
    "# Data Separation\n",
    "\n",
    "After the data has been mean normalized, it is customary in machine learnig to split our dataset into three sets:\n",
    "\n",
    "1. A Training Set\n",
    "2. A Cross Validation Set\n",
    "3. A Test Set\n",
    "\n",
    "The dataset is usually divided such that the Training Set contains 60% of the data, the Cross Validation Set contains 20% of the data, and the Test Set contains 20% of the data. \n",
    "\n",
    "In this part of the lab you will separate `X_norm` into a Training Set, Cross Validation Set, and a Test Set. Each data set will contain rows of `X_norm` chosen at random, making sure that we don't pick the same row twice. This will guarantee that all the rows of `X_norm` are chosen and randomly distributed among the three new sets.\n",
    "\n",
    "You will start by creating a rank 1 ndarray that contains a random permutation of the row indices of `X_norm`. You can do this by using the `np.random.permutation()` function. The `np.random.permutation(N)` function creates a random permutation of integers from 0 to `N - 1`. Let's see an example:"
   ]
  },
  {
   "cell_type": "code",
   "execution_count": 54,
   "metadata": {},
   "outputs": [
    {
     "data": {
      "text/plain": [
       "array([2, 3, 4, 0, 1])"
      ]
     },
     "execution_count": 54,
     "metadata": {},
     "output_type": "execute_result"
    }
   ],
   "source": [
    "# We create a random permutation of integers 0 to 4\n",
    "np.random.permutation(5)"
   ]
  },
  {
   "cell_type": "markdown",
   "metadata": {},
   "source": [
    "# To Do\n",
    "\n",
    "In the space below create a rank 1 ndarray that contains a random permutation of the row indices of `X_norm`. You can do this in one line of code by extracting the number of rows of `X_norm` using the `shape` attribute and then passing it to the  `np.random.permutation()` function. Remember the `shape` attribute returns a tuple with two numbers in the form `(rows,columns)`."
   ]
  },
  {
   "cell_type": "code",
   "execution_count": 55,
   "metadata": {},
   "outputs": [
    {
     "name": "stdout",
     "output_type": "stream",
     "text": [
      "(1000, 20)\n"
     ]
    }
   ],
   "source": [
    "# Create a rank 1 ndarray that contains a random permutation of the row indices of `X_norm`\n",
    "rows,cloums = X_norm.shape\n",
    "print(X_norm.shape)\n",
    "row_indices = np.random.permutation(rows)"
   ]
  },
  {
   "cell_type": "markdown",
   "metadata": {},
   "source": [
    "Now you can create the three datasets using the `row_indices` ndarray to select the rows that will go into each dataset. Rememeber that the Training Set contains 60% of the data, the Cross Validation Set contains 20% of the data, and the Test Set contains 20% of the data. Each set requires just one line of code to create. Fill in the code below"
   ]
  },
  {
   "cell_type": "code",
   "execution_count": 56,
   "metadata": {},
   "outputs": [],
   "source": [
    "# Make any necessary calculations.\n",
    "# You can save your calculations into variables to use later.\n",
    "\n",
    "# Create a Training Set\n",
    "X_train = row_indices[0:600]\n",
    "\n",
    "\n",
    "# Create a Cross Validation Set\n",
    "X_crossVal = row_indices[600:800]\n",
    "\n",
    "\n",
    "# Create a Test Set\n",
    "X_test = row_indices[800:1000]"
   ]
  },
  {
   "cell_type": "markdown",
   "metadata": {},
   "source": [
    "If you performed the above calculations correctly, then `X_tain` should have 600 rows and 20 columns, `X_crossVal` should have 200 rows and 20 columns, and `X_test` should have 200 rows and 20 columns. You can verify this by filling the code below:"
   ]
  },
  {
   "cell_type": "code",
   "execution_count": 52,
   "metadata": {},
   "outputs": [
    {
     "name": "stdout",
     "output_type": "stream",
     "text": [
      "(600,)\n",
      "[209 303 909 635  75 949 591 677 703 435 244 694 625  84 129 825 775 330\n",
      " 823 711  78 972 986 933 860 737  12 895 649 447 503 674 443 236 721 428\n",
      " 561 579 401 881 830 820 410 717 281 844 575 504 179 157 632 118 832 545\n",
      " 612 911 171 686 912 288 921 331  42 702 876 250 490 493 786 143 801 188\n",
      " 222 966 429 199 426 868 246 420 278 203 905  49 930 865 730 886 109 413\n",
      " 696 877   7 713 512 283 365 494 890 159  36 191  24 813  69 617 294 148\n",
      " 458  83 845 454 571 290 253 993 544 211 305  28 233 869 734 664 425 196\n",
      " 884  45 192 553 484 113 987 984 387 804 666 939 500 292 619 643 581 807\n",
      " 293 333 273 376 772 325 739 474 339 322 642 983 685 163 669 485 537 121\n",
      " 517 498 861 793 572   3 168  95 840 154 837  19 982 132 453 386 327 774\n",
      " 648 580 851 341 125 691 119 156 955 127  85 558 638 767 417 286 954 172\n",
      " 398 334 645  80 636 659  41 760 815 603 343 606 451 621 628 817 452 846\n",
      " 958 176 508 824 107 404 614 917 511 239 455 430 926 373 238 762 570 499\n",
      " 266 108 741 310 460 841 805  58 633  31 870 527 997 130 859 780 656 916\n",
      " 524 956 407   9 971 768  44 745 672  93 271  29 782 706 324 919  99 449\n",
      " 311 637 307 412 630 395 361 589 756 150 783 120  91 363 392 472 302 375\n",
      " 965 653   4 754 111  22 362 979 478 552 227 976 214 397 323 131 317 828\n",
      " 601 434 573 819  61 588 506 181 142 388 265 608 347 136 950 709   1 839\n",
      " 896 812 369 542 167 901 874 201 963 338 205 135 379 479  32  35 652 258\n",
      " 698 257 314  11 208 235 866 122 400 858 534 414 650 182 766 402 597 647\n",
      " 308 312 676 699  81 223 525 604 924 833  82 217 432 818 970 519 513 346\n",
      " 202 442 680 559 518 803 736 969 161  96 753 301 836 259 514 797 237 275\n",
      "  77 765 681 104 729 658   8 996 507 583 735 117 295 147 577 299 276 795\n",
      " 411 700 226 720 380 137 180 809 356 153 549 216 988 116 367 726 936 287\n",
      " 964 607 929 849 596 913 370 162 842  97 712 802 536 146 829  74 910 771\n",
      "  40 796 149 959 827 492 598 714 944 477 615 351 391 834  51 779 355  90\n",
      " 515 662 568 189 437 390  94 708 585 977 256 242 298 264 234 693 457 903\n",
      "  87 567 810 166 773  39 510 610 784 973 319   6 245 789 742 289  52 974\n",
      " 366 541 112 922 170 599 695 399  73 329 468 641 232 962 719 904 931 639\n",
      " 297 584 978 207 165 670 128 776  30  86 416 318 229 663 348 320 224 981\n",
      " 960  25 555 198  65 871 798 210 600 863  55 898 882 482 791 251  66 770\n",
      " 566 456 383 126  72 850 152 439 704  92  13 994 899 888 441 800 204  38\n",
      " 624 671 315 661 144 862 215 942  18 145 748  76 158 444 799 990 261 646\n",
      " 110 640 520 344 991 673]\n",
      "(200,)\n",
      "(200,)\n"
     ]
    }
   ],
   "source": [
    "# Print the shape of X_train\n",
    "print(X_train.shape)\n",
    "print(X_train)\n",
    "# Print the shape of X_crossVal\n",
    "print(X_crossVal.shape)\n",
    "\n",
    "# Print the shape of X_test\n",
    "print(X_test.shape)"
   ]
  },
  {
   "cell_type": "code",
   "execution_count": null,
   "metadata": {},
   "outputs": [],
   "source": []
  }
 ],
 "metadata": {
  "kernelspec": {
   "display_name": "Python 3",
   "language": "python",
   "name": "python3"
  },
  "language_info": {
   "codemirror_mode": {
    "name": "ipython",
    "version": 3
   },
   "file_extension": ".py",
   "mimetype": "text/x-python",
   "name": "python",
   "nbconvert_exporter": "python",
   "pygments_lexer": "ipython3",
   "version": "3.6.3"
  }
 },
 "nbformat": 4,
 "nbformat_minor": 2
}
